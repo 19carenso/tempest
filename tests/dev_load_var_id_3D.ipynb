{
 "cells": [
  {
   "cell_type": "code",
   "execution_count": 1,
   "metadata": {},
   "outputs": [],
   "source": [
    "%load_ext autoreload\n",
    "%matplotlib inline"
   ]
  },
  {
   "cell_type": "code",
   "execution_count": 5,
   "metadata": {},
   "outputs": [],
   "source": [
    "import os\n",
    "import glob\n",
    "import sys\n",
    "import yaml\n",
    "\n",
    "import numpy as np\n",
    "import matplotlib.pyplot as plt\n",
    "import pandas as pd\n",
    "import re\n",
    "import datetime as dt\n",
    "\n",
    "from tempest import casestudy\n",
    "from tempest import grid\n",
    "from tempest import joint_distrib\n",
    "from tempest import handler\n",
    "\n",
    "settings_path = 'settings/tropics.yaml'"
   ]
  },
  {
   "cell_type": "code",
   "execution_count": 4,
   "metadata": {},
   "outputs": [
    {
     "name": "stdout",
     "output_type": "stream",
     "text": [
      "Data loaded from /homedata/mcarenso/tempest/DYAMOND_SAM_Tropics/var_id_days_i_t.json\n",
      "Found grid attributes file , so loading /homedata/mcarenso/tempest/DYAMOND_SAM_Tropics/grid_attributes.pkl instead of computing\n"
     ]
    }
   ],
   "source": [
    "# Instantiate CaseStudy by passing the settings. \n",
    "# Should also create appropriate directories\n",
    "hdlr = handler.Handler(settings_path)\n",
    "cs = casestudy.CaseStudy(hdlr, overwrite = False ,verbose = False)\n",
    "gr = grid.Grid(cs, fast = True, overwrite= False, verbose_steps = False, verbose = False)\n",
    "# jd = joint_distrib.JointDistribution(gr)\n",
    "\n",
    "if __name__ == '__main__':\n",
    "    # print(\"Loaded Configuration:\")\n",
    "    # for key, value in settings.items():\n",
    "    #     print(f\"{key}: {value}\")\n",
    "    \n",
    "    #gr.compute_funcs_for_var_id()\n",
    "    pass\n"
   ]
  },
  {
   "cell_type": "code",
   "execution_count": null,
   "metadata": {},
   "outputs": [],
   "source": [
    "def _load_var_id_in_data_in(self):\n",
    "    \"\"\"\n",
    "    this functions loads the data from your DIR_DATA_IN settings\n",
    "\n",
    "    :param dir: The path to your DIR_DATA_IN in .yaml\n",
    "\n",
    "    :return\n",
    "        var_id: list of variables found\n",
    "        days_i_t_per_var_id: a dictionnary that contains the days and correspong indexes per var_id    \n",
    "                        days_i_t_per_var_id[var_id] = dict with keys the dates and values the indexes\n",
    "    \"\"\"\n",
    "    dir = self.settings['DIR_DATA_IN']\n",
    "    variables_id = []\n",
    "    days_i_t_per_var_id = {}\n",
    "\n",
    "    def get_day_and_i_t(filename):\n",
    "            # Define a regex pattern to extract the timestamp from your file path\n",
    "            timestamp_pattern = r'(\\d{10})\\.\\w+\\.2D\\.nc'\n",
    "\n",
    "            # starting date\n",
    "            date_ref = dt.datetime(year=2016, month=8, day=1)\n",
    "            \n",
    "            def get_datetime_and_i_t(filename):\n",
    "                # Extract the timestamp from the file path\n",
    "                match = re.search(timestamp_pattern, filename)\n",
    "                if match:\n",
    "                    timestamp = int(match.group(1))\n",
    "                    # Calculate the delta in seconds\n",
    "                    delta_t = dt.timedelta(seconds=timestamp * 7.5)\n",
    "                    # Calculate the current date\n",
    "                    date_current = date_ref + delta_t\n",
    "\n",
    "                    i_t = int(timestamp / 240) \n",
    "                    return date_current, i_t\n",
    "                else:\n",
    "                    return None  # Handle cases where the timestamp couldn't be extracted\n",
    "\n",
    "            # time dimension\n",
    "            \n",
    "            date_time, i_t = get_datetime_and_i_t(filename)\n",
    "            days_i_t = {} ## maybe here work on storing the full datetimes with corresponding i_t. \n",
    "            day = date_time.strftime(\"%y-%m-%d\")\n",
    "            return day, i_t\n",
    "\n",
    "    # Define a regular expression pattern to extract variable names from filenames.\n",
    "    variable_pattern = re.compile(r'\\.([A-Za-z0-9]+)\\.2D\\.nc$')\n",
    "\n",
    "    for root, _, files in os.walk(dir):\n",
    "        for filename in sorted(files):\n",
    "            match = variable_pattern.search(filename)\n",
    "            if match:\n",
    "                var_id = match.group(1)\n",
    "                if var_id not in variables_id : \n",
    "                    variables_id.append(var_id)\n",
    "                    days_i_t_per_var_id[var_id] = {}\n",
    "                    \n",
    "                day, i_t = get_day_and_i_t(filename)\n",
    "                if day not in list(days_i_t_per_var_id[var_id].keys()):\n",
    "                    days_i_t_per_var_id[var_id][day] = [i_t]\n",
    "                else :\n",
    "                    days_i_t_per_var_id[var_id][day].append(i_t)\n",
    "                    \n",
    "    return variables_id, days_i_t_per_var_id"
   ]
  }
 ],
 "metadata": {
  "kernelspec": {
   "display_name": "PyLMD",
   "language": "python",
   "name": "pylmd"
  },
  "language_info": {
   "codemirror_mode": {
    "name": "ipython",
    "version": 3
   },
   "file_extension": ".py",
   "mimetype": "text/x-python",
   "name": "python",
   "nbconvert_exporter": "python",
   "pygments_lexer": "ipython3",
   "version": "3.8.13"
  }
 },
 "nbformat": 4,
 "nbformat_minor": 2
}
