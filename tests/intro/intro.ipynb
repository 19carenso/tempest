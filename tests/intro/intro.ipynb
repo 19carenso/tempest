{
 "cells": [
  {
   "cell_type": "markdown",
   "metadata": {},
   "source": [
    "# First Notebook for dev issues\n",
    "We basically reproduce setup.py and define functions or chech variables before updating either tempest/*.py or anything else really "
   ]
  },
  {
   "cell_type": "code",
   "execution_count": 5,
   "metadata": {},
   "outputs": [
    {
     "name": "stdout",
     "output_type": "stream",
     "text": [
      "The autoreload extension is already loaded. To reload it, use:\n",
      "  %reload_ext autoreload\n"
     ]
    }
   ],
   "source": [
    "%load_ext autoreload\n",
    "%matplotlib inline"
   ]
  },
  {
   "cell_type": "code",
   "execution_count": 6,
   "metadata": {},
   "outputs": [
    {
     "name": "stdout",
     "output_type": "stream",
     "text": [
      "/home/mcarenso/code/tempest\n"
     ]
    }
   ],
   "source": [
    "import os\n",
    "import glob\n",
    "import sys\n",
    "import yaml\n",
    "\n",
    "import matplotlib.pyplot as plt\n",
    "\n",
    "\n",
    "print(os.getcwd())\n",
    "\n",
    "from tempest import casestudy\n",
    "from tempest import grid\n",
    "\n",
    "settings_path = 'settings/intro.yaml'\n",
    "\n",
    "with open(settings_path, 'r') as file:\n",
    "    settings = yaml.safe_load(file)"
   ]
  },
  {
   "cell_type": "code",
   "execution_count": 7,
   "metadata": {},
   "outputs": [
    {
     "name": "stdout",
     "output_type": "stream",
     "text": [
      "True\n",
      "Loaded Configuration:\n",
      "MODEL: DYAMOND_SAM\n",
      "REGION: ITCZ_intro\n",
      "DIR_INPUT: /input\n",
      "DIR_FIG: /figures\n",
      "DIR_OUT: /output\n",
      "DIR_TEMPDATA: /cache\n",
      "DIR_DATA_OUT: /homedata/mcarenso/tempest\n",
      "DIR_DATA_IN: /home/mcarenso/code/tempest/input/intro/data\n",
      "DIR_DATA2: /homedata/mcarenso/DYAMOND_REGIONS/tropics/SAM/diagnostics_2D\n",
      "DIR_TOOCANSEG_DYAMOND: None\n",
      "DIR_STORM_TRACKING: /data/fiolleau/DYAMOND/TOOCAN/TOOCAN_v2.07/GLOBAL/2016/FileTracking\n",
      "REL_TABLE: input/relation_2_table_UTC_dyamond_segmentation.csv\n",
      "clim_specs: {'prec': ['1e-2', '1e2'], 'PW': [10, 70]}\n",
      "cmap_specs: {'prec': 'plt.cm.ocean_r', 'PW': 'plt.cm.RdBu', 'mcs': 'plt.cm.get_cmap(\"Accent\", 10)'}\n",
      "norm_specs: {'prec': {'type': 'LogNorm', 'vmin': 0.01, 'vmax': 100.0}, 'PW': None}\n",
      "BOX: [0, 20, 310, 340]\n",
      "TIME_RANGE: [1440, 1488]\n"
     ]
    }
   ],
   "source": [
    "# Instantiate CaseStudy by passing the settings. \n",
    "# Should also create appropriate directories\n",
    "cs = casestudy.CaseStudy(settings)\n",
    "gr = grid.Grid(settings)\n",
    "\n",
    "if __name__ == '__main__':\n",
    "    print(\"Loaded Configuration:\")\n",
    "    for key, value in settings.items():\n",
    "        print(f\"{key}: {value}\")"
   ]
  },
  {
   "cell_type": "code",
   "execution_count": 9,
   "metadata": {},
   "outputs": [
    {
     "ename": "AttributeError",
     "evalue": "module 'tempest.grid' has no attribute 'global_pixel_surf'",
     "output_type": "error",
     "traceback": [
      "\u001b[0;31m---------------------------------------------------------------------------\u001b[0m",
      "\u001b[0;31mAttributeError\u001b[0m                            Traceback (most recent call last)",
      "\u001b[1;32m/home/mcarenso/code/tempest/tests/intro/intro.ipynb Cell 5\u001b[0m line \u001b[0;36m2\n\u001b[1;32m      <a href='vscode-notebook-cell://ssh-remote%2Bspiritx/home/mcarenso/code/tempest/tests/intro/intro.ipynb#W4sdnNjb2RlLXJlbW90ZQ%3D%3D?line=0'>1</a>\u001b[0m \u001b[39m##Here cheks if the global_pixel_surf in ds looks correct (and is accessible so that grid.ds is not corrupted)\u001b[39;00m\n\u001b[0;32m----> <a href='vscode-notebook-cell://ssh-remote%2Bspiritx/home/mcarenso/code/tempest/tests/intro/intro.ipynb#W4sdnNjb2RlLXJlbW90ZQ%3D%3D?line=1'>2</a>\u001b[0m X \u001b[39m=\u001b[39m grid\u001b[39m.\u001b[39;49mglobal_pixel_surf\n\u001b[1;32m      <a href='vscode-notebook-cell://ssh-remote%2Bspiritx/home/mcarenso/code/tempest/tests/intro/intro.ipynb#W4sdnNjb2RlLXJlbW90ZQ%3D%3D?line=2'>3</a>\u001b[0m plt\u001b[39m.\u001b[39mimshow(X, origin \u001b[39m=\u001b[39m \u001b[39m'\u001b[39m\u001b[39mlower\u001b[39m\u001b[39m'\u001b[39m)\n\u001b[1;32m      <a href='vscode-notebook-cell://ssh-remote%2Bspiritx/home/mcarenso/code/tempest/tests/intro/intro.ipynb#W4sdnNjb2RlLXJlbW90ZQ%3D%3D?line=3'>4</a>\u001b[0m plt\u001b[39m.\u001b[39mcolorbar()\n",
      "\u001b[0;31mAttributeError\u001b[0m: module 'tempest.grid' has no attribute 'global_pixel_surf'"
     ]
    }
   ],
   "source": [
    "##Here cheks if the global_pixel_surf in ds looks correct (and is accessible so that grid.ds is not corrupted)\n",
    "X = grid.global_pixel_surf\n",
    "plt.imshow(X, origin = 'lower')\n",
    "plt.colorbar()"
   ]
  },
  {
   "cell_type": "code",
   "execution_count": 10,
   "metadata": {},
   "outputs": [
    {
     "ename": "AttributeError",
     "evalue": "module 'tempest.grid' has no attribute 'sum_data_from_center_to_global'",
     "output_type": "error",
     "traceback": [
      "\u001b[0;31m---------------------------------------------------------------------------\u001b[0m",
      "\u001b[0;31mAttributeError\u001b[0m                            Traceback (most recent call last)",
      "File \u001b[0;32m<timed exec>:3\u001b[0m\n",
      "\u001b[0;31mAttributeError\u001b[0m: module 'tempest.grid' has no attribute 'sum_data_from_center_to_global'"
     ]
    }
   ],
   "source": [
    "%%time\n",
    "##Here we redo the computation of what should be global_pixel_surf, from the pixel_surf.\n",
    "##useful to see how long it takes for one calculus\n",
    "X = grid.sum_data_from_center_to_global(grid.ds[\"pixel_surf\"])\n",
    "plt.imshow(X, origin = 'lower')\n",
    "plt.colorbar()"
   ]
  },
  {
   "cell_type": "code",
   "execution_count": null,
   "metadata": {},
   "outputs": [],
   "source": []
  }
 ],
 "metadata": {
  "kernelspec": {
   "display_name": "PyLMD",
   "language": "python",
   "name": "pylmd"
  },
  "language_info": {
   "codemirror_mode": {
    "name": "ipython",
    "version": 3
   },
   "file_extension": ".py",
   "mimetype": "text/x-python",
   "name": "python",
   "nbconvert_exporter": "python",
   "pygments_lexer": "ipython3",
   "version": "3.8.13"
  }
 },
 "nbformat": 4,
 "nbformat_minor": 2
}
