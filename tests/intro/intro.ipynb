{
 "cells": [
  {
   "cell_type": "markdown",
   "metadata": {},
   "source": [
    "# First Notebook for dev issues\n",
    "We basically reproduce setup.py and define functions or chech variables before updating either tempest/*.py or anything else really "
   ]
  },
  {
   "cell_type": "code",
   "execution_count": 1,
   "metadata": {},
   "outputs": [],
   "source": [
    "%load_ext autoreload\n",
    "%matplotlib inline"
   ]
  },
  {
   "cell_type": "code",
   "execution_count": 2,
   "metadata": {},
   "outputs": [],
   "source": [
    "import os\n",
    "import glob\n",
    "import sys\n",
    "import yaml\n",
    "\n",
    "import numpy as np\n",
    "import matplotlib.pyplot as plt\n",
    "import pandas as pd\n",
    "\n",
    "from tempest import casestudy\n",
    "from tempest import grid\n",
    "from tempest import joint_distrib\n",
    "from tempest import handler\n",
    "\n",
    "settings_path = 'settings/intro.yaml'"
   ]
  },
  {
   "cell_type": "code",
   "execution_count": 3,
   "metadata": {},
   "outputs": [
    {
     "name": "stdout",
     "output_type": "stream",
     "text": [
      "Data loaded from output/intro/DYAMOND_SAM_ITCZ_intro/var_id_days_i_t.json\n",
      "Found grid attributes file , so loading output/intro/DYAMOND_SAM_ITCZ_intro/grid_attributes.pkl instead of computing\n"
     ]
    }
   ],
   "source": [
    "# Instantiate CaseStudy by passing the settings. \n",
    "# Should also create appropriate directories\n",
    "hdlr = handler.Handler(settings_path)\n",
    "cs = casestudy.CaseStudy(hdlr, overwrite = False ,verbose = False)\n",
    "gr = grid.Grid(cs, fast = True, overwrite= False, verbose_steps = False, verbose = False)\n",
    "# jd = joint_distrib.JointDistribution(gr)\n",
    "\n",
    "if __name__ == '__main__':\n",
    "    pass"
   ]
  },
  {
   "cell_type": "code",
   "execution_count": 5,
   "metadata": {},
   "outputs": [
    {
     "name": "stdout",
     "output_type": "stream",
     "text": [
      "Distribs have been recomputed because overwrite is set to True\n",
      "Overwrite set to true, so computing basics and saving them\n",
      "/data/fiolleau/DYAMOND/TOOCAN/TOOCAN_v2.07/GLOBAL/2016/FileTracking/TOOCAN-GLOBAL-20160901-20160910.dat.gz\n",
      "/data/fiolleau/DYAMOND/TOOCAN/TOOCAN_v2.07/GLOBAL/2016/FileTracking/TOOCAN-GLOBAL-20160801-20160831.dat.gz\n"
     ]
    }
   ],
   "source": [
    "jd = joint_distrib.JointDistribution(gr, nd=3, overwrite = True, storm_tracking=True)"
   ]
  },
  {
   "cell_type": "markdown",
   "metadata": {},
   "source": [
    "# test Heavy diag "
   ]
  },
  {
   "cell_type": "code",
   "execution_count": 9,
   "metadata": {},
   "outputs": [
    {
     "data": {
      "text/html": [
       "<div><svg style=\"position: absolute; width: 0; height: 0; overflow: hidden\">\n",
       "<defs>\n",
       "<symbol id=\"icon-database\" viewBox=\"0 0 32 32\">\n",
       "<path d=\"M16 0c-8.837 0-16 2.239-16 5v4c0 2.761 7.163 5 16 5s16-2.239 16-5v-4c0-2.761-7.163-5-16-5z\"></path>\n",
       "<path d=\"M16 17c-8.837 0-16-2.239-16-5v6c0 2.761 7.163 5 16 5s16-2.239 16-5v-6c0 2.761-7.163 5-16 5z\"></path>\n",
       "<path d=\"M16 26c-8.837 0-16-2.239-16-5v6c0 2.761 7.163 5 16 5s16-2.239 16-5v-6c0 2.761-7.163 5-16 5z\"></path>\n",
       "</symbol>\n",
       "<symbol id=\"icon-file-text2\" viewBox=\"0 0 32 32\">\n",
       "<path d=\"M28.681 7.159c-0.694-0.947-1.662-2.053-2.724-3.116s-2.169-2.030-3.116-2.724c-1.612-1.182-2.393-1.319-2.841-1.319h-15.5c-1.378 0-2.5 1.121-2.5 2.5v27c0 1.378 1.122 2.5 2.5 2.5h23c1.378 0 2.5-1.122 2.5-2.5v-19.5c0-0.448-0.137-1.23-1.319-2.841zM24.543 5.457c0.959 0.959 1.712 1.825 2.268 2.543h-4.811v-4.811c0.718 0.556 1.584 1.309 2.543 2.268zM28 29.5c0 0.271-0.229 0.5-0.5 0.5h-23c-0.271 0-0.5-0.229-0.5-0.5v-27c0-0.271 0.229-0.5 0.5-0.5 0 0 15.499-0 15.5 0v7c0 0.552 0.448 1 1 1h7v19.5z\"></path>\n",
       "<path d=\"M23 26h-14c-0.552 0-1-0.448-1-1s0.448-1 1-1h14c0.552 0 1 0.448 1 1s-0.448 1-1 1z\"></path>\n",
       "<path d=\"M23 22h-14c-0.552 0-1-0.448-1-1s0.448-1 1-1h14c0.552 0 1 0.448 1 1s-0.448 1-1 1z\"></path>\n",
       "<path d=\"M23 18h-14c-0.552 0-1-0.448-1-1s0.448-1 1-1h14c0.552 0 1 0.448 1 1s-0.448 1-1 1z\"></path>\n",
       "</symbol>\n",
       "</defs>\n",
       "</svg>\n",
       "<style>/* CSS stylesheet for displaying xarray objects in jupyterlab.\n",
       " *\n",
       " */\n",
       "\n",
       ":root {\n",
       "  --xr-font-color0: var(--jp-content-font-color0, rgba(0, 0, 0, 1));\n",
       "  --xr-font-color2: var(--jp-content-font-color2, rgba(0, 0, 0, 0.54));\n",
       "  --xr-font-color3: var(--jp-content-font-color3, rgba(0, 0, 0, 0.38));\n",
       "  --xr-border-color: var(--jp-border-color2, #e0e0e0);\n",
       "  --xr-disabled-color: var(--jp-layout-color3, #bdbdbd);\n",
       "  --xr-background-color: var(--jp-layout-color0, white);\n",
       "  --xr-background-color-row-even: var(--jp-layout-color1, white);\n",
       "  --xr-background-color-row-odd: var(--jp-layout-color2, #eeeeee);\n",
       "}\n",
       "\n",
       "html[theme=dark],\n",
       "body[data-theme=dark],\n",
       "body.vscode-dark {\n",
       "  --xr-font-color0: rgba(255, 255, 255, 1);\n",
       "  --xr-font-color2: rgba(255, 255, 255, 0.54);\n",
       "  --xr-font-color3: rgba(255, 255, 255, 0.38);\n",
       "  --xr-border-color: #1F1F1F;\n",
       "  --xr-disabled-color: #515151;\n",
       "  --xr-background-color: #111111;\n",
       "  --xr-background-color-row-even: #111111;\n",
       "  --xr-background-color-row-odd: #313131;\n",
       "}\n",
       "\n",
       ".xr-wrap {\n",
       "  display: block !important;\n",
       "  min-width: 300px;\n",
       "  max-width: 700px;\n",
       "}\n",
       "\n",
       ".xr-text-repr-fallback {\n",
       "  /* fallback to plain text repr when CSS is not injected (untrusted notebook) */\n",
       "  display: none;\n",
       "}\n",
       "\n",
       ".xr-header {\n",
       "  padding-top: 6px;\n",
       "  padding-bottom: 6px;\n",
       "  margin-bottom: 4px;\n",
       "  border-bottom: solid 1px var(--xr-border-color);\n",
       "}\n",
       "\n",
       ".xr-header > div,\n",
       ".xr-header > ul {\n",
       "  display: inline;\n",
       "  margin-top: 0;\n",
       "  margin-bottom: 0;\n",
       "}\n",
       "\n",
       ".xr-obj-type,\n",
       ".xr-array-name {\n",
       "  margin-left: 2px;\n",
       "  margin-right: 10px;\n",
       "}\n",
       "\n",
       ".xr-obj-type {\n",
       "  color: var(--xr-font-color2);\n",
       "}\n",
       "\n",
       ".xr-sections {\n",
       "  padding-left: 0 !important;\n",
       "  display: grid;\n",
       "  grid-template-columns: 150px auto auto 1fr 20px 20px;\n",
       "}\n",
       "\n",
       ".xr-section-item {\n",
       "  display: contents;\n",
       "}\n",
       "\n",
       ".xr-section-item input {\n",
       "  display: none;\n",
       "}\n",
       "\n",
       ".xr-section-item input + label {\n",
       "  color: var(--xr-disabled-color);\n",
       "}\n",
       "\n",
       ".xr-section-item input:enabled + label {\n",
       "  cursor: pointer;\n",
       "  color: var(--xr-font-color2);\n",
       "}\n",
       "\n",
       ".xr-section-item input:enabled + label:hover {\n",
       "  color: var(--xr-font-color0);\n",
       "}\n",
       "\n",
       ".xr-section-summary {\n",
       "  grid-column: 1;\n",
       "  color: var(--xr-font-color2);\n",
       "  font-weight: 500;\n",
       "}\n",
       "\n",
       ".xr-section-summary > span {\n",
       "  display: inline-block;\n",
       "  padding-left: 0.5em;\n",
       "}\n",
       "\n",
       ".xr-section-summary-in:disabled + label {\n",
       "  color: var(--xr-font-color2);\n",
       "}\n",
       "\n",
       ".xr-section-summary-in + label:before {\n",
       "  display: inline-block;\n",
       "  content: '►';\n",
       "  font-size: 11px;\n",
       "  width: 15px;\n",
       "  text-align: center;\n",
       "}\n",
       "\n",
       ".xr-section-summary-in:disabled + label:before {\n",
       "  color: var(--xr-disabled-color);\n",
       "}\n",
       "\n",
       ".xr-section-summary-in:checked + label:before {\n",
       "  content: '▼';\n",
       "}\n",
       "\n",
       ".xr-section-summary-in:checked + label > span {\n",
       "  display: none;\n",
       "}\n",
       "\n",
       ".xr-section-summary,\n",
       ".xr-section-inline-details {\n",
       "  padding-top: 4px;\n",
       "  padding-bottom: 4px;\n",
       "}\n",
       "\n",
       ".xr-section-inline-details {\n",
       "  grid-column: 2 / -1;\n",
       "}\n",
       "\n",
       ".xr-section-details {\n",
       "  display: none;\n",
       "  grid-column: 1 / -1;\n",
       "  margin-bottom: 5px;\n",
       "}\n",
       "\n",
       ".xr-section-summary-in:checked ~ .xr-section-details {\n",
       "  display: contents;\n",
       "}\n",
       "\n",
       ".xr-array-wrap {\n",
       "  grid-column: 1 / -1;\n",
       "  display: grid;\n",
       "  grid-template-columns: 20px auto;\n",
       "}\n",
       "\n",
       ".xr-array-wrap > label {\n",
       "  grid-column: 1;\n",
       "  vertical-align: top;\n",
       "}\n",
       "\n",
       ".xr-preview {\n",
       "  color: var(--xr-font-color3);\n",
       "}\n",
       "\n",
       ".xr-array-preview,\n",
       ".xr-array-data {\n",
       "  padding: 0 5px !important;\n",
       "  grid-column: 2;\n",
       "}\n",
       "\n",
       ".xr-array-data,\n",
       ".xr-array-in:checked ~ .xr-array-preview {\n",
       "  display: none;\n",
       "}\n",
       "\n",
       ".xr-array-in:checked ~ .xr-array-data,\n",
       ".xr-array-preview {\n",
       "  display: inline-block;\n",
       "}\n",
       "\n",
       ".xr-dim-list {\n",
       "  display: inline-block !important;\n",
       "  list-style: none;\n",
       "  padding: 0 !important;\n",
       "  margin: 0;\n",
       "}\n",
       "\n",
       ".xr-dim-list li {\n",
       "  display: inline-block;\n",
       "  padding: 0;\n",
       "  margin: 0;\n",
       "}\n",
       "\n",
       ".xr-dim-list:before {\n",
       "  content: '(';\n",
       "}\n",
       "\n",
       ".xr-dim-list:after {\n",
       "  content: ')';\n",
       "}\n",
       "\n",
       ".xr-dim-list li:not(:last-child):after {\n",
       "  content: ',';\n",
       "  padding-right: 5px;\n",
       "}\n",
       "\n",
       ".xr-has-index {\n",
       "  font-weight: bold;\n",
       "}\n",
       "\n",
       ".xr-var-list,\n",
       ".xr-var-item {\n",
       "  display: contents;\n",
       "}\n",
       "\n",
       ".xr-var-item > div,\n",
       ".xr-var-item label,\n",
       ".xr-var-item > .xr-var-name span {\n",
       "  background-color: var(--xr-background-color-row-even);\n",
       "  margin-bottom: 0;\n",
       "}\n",
       "\n",
       ".xr-var-item > .xr-var-name:hover span {\n",
       "  padding-right: 5px;\n",
       "}\n",
       "\n",
       ".xr-var-list > li:nth-child(odd) > div,\n",
       ".xr-var-list > li:nth-child(odd) > label,\n",
       ".xr-var-list > li:nth-child(odd) > .xr-var-name span {\n",
       "  background-color: var(--xr-background-color-row-odd);\n",
       "}\n",
       "\n",
       ".xr-var-name {\n",
       "  grid-column: 1;\n",
       "}\n",
       "\n",
       ".xr-var-dims {\n",
       "  grid-column: 2;\n",
       "}\n",
       "\n",
       ".xr-var-dtype {\n",
       "  grid-column: 3;\n",
       "  text-align: right;\n",
       "  color: var(--xr-font-color2);\n",
       "}\n",
       "\n",
       ".xr-var-preview {\n",
       "  grid-column: 4;\n",
       "}\n",
       "\n",
       ".xr-index-preview {\n",
       "  grid-column: 2 / 5;\n",
       "  color: var(--xr-font-color2);\n",
       "}\n",
       "\n",
       ".xr-var-name,\n",
       ".xr-var-dims,\n",
       ".xr-var-dtype,\n",
       ".xr-preview,\n",
       ".xr-attrs dt {\n",
       "  white-space: nowrap;\n",
       "  overflow: hidden;\n",
       "  text-overflow: ellipsis;\n",
       "  padding-right: 10px;\n",
       "}\n",
       "\n",
       ".xr-var-name:hover,\n",
       ".xr-var-dims:hover,\n",
       ".xr-var-dtype:hover,\n",
       ".xr-attrs dt:hover {\n",
       "  overflow: visible;\n",
       "  width: auto;\n",
       "  z-index: 1;\n",
       "}\n",
       "\n",
       ".xr-var-attrs,\n",
       ".xr-var-data,\n",
       ".xr-index-data {\n",
       "  display: none;\n",
       "  background-color: var(--xr-background-color) !important;\n",
       "  padding-bottom: 5px !important;\n",
       "}\n",
       "\n",
       ".xr-var-attrs-in:checked ~ .xr-var-attrs,\n",
       ".xr-var-data-in:checked ~ .xr-var-data,\n",
       ".xr-index-data-in:checked ~ .xr-index-data {\n",
       "  display: block;\n",
       "}\n",
       "\n",
       ".xr-var-data > table {\n",
       "  float: right;\n",
       "}\n",
       "\n",
       ".xr-var-name span,\n",
       ".xr-var-data,\n",
       ".xr-index-name div,\n",
       ".xr-index-data,\n",
       ".xr-attrs {\n",
       "  padding-left: 25px !important;\n",
       "}\n",
       "\n",
       ".xr-attrs,\n",
       ".xr-var-attrs,\n",
       ".xr-var-data,\n",
       ".xr-index-data {\n",
       "  grid-column: 1 / -1;\n",
       "}\n",
       "\n",
       "dl.xr-attrs {\n",
       "  padding: 0;\n",
       "  margin: 0;\n",
       "  display: grid;\n",
       "  grid-template-columns: 125px auto;\n",
       "}\n",
       "\n",
       ".xr-attrs dt,\n",
       ".xr-attrs dd {\n",
       "  padding: 0;\n",
       "  margin: 0;\n",
       "  float: left;\n",
       "  padding-right: 10px;\n",
       "  width: auto;\n",
       "}\n",
       "\n",
       ".xr-attrs dt {\n",
       "  font-weight: normal;\n",
       "  grid-column: 1;\n",
       "}\n",
       "\n",
       ".xr-attrs dt:hover span {\n",
       "  display: inline-block;\n",
       "  background: var(--xr-background-color);\n",
       "  padding-right: 10px;\n",
       "}\n",
       "\n",
       ".xr-attrs dd {\n",
       "  grid-column: 2;\n",
       "  white-space: pre-wrap;\n",
       "  word-break: break-all;\n",
       "}\n",
       "\n",
       ".xr-icon-database,\n",
       ".xr-icon-file-text2,\n",
       ".xr-no-icon {\n",
       "  display: inline-block;\n",
       "  vertical-align: middle;\n",
       "  width: 1em;\n",
       "  height: 1.5em !important;\n",
       "  stroke-width: 0;\n",
       "  stroke: currentColor;\n",
       "  fill: currentColor;\n",
       "}\n",
       "</style><pre class='xr-text-repr-fallback'>&lt;xarray.Dataset&gt;\n",
       "Dimensions:            (lat_global: 20, lon_global: 30, days: 2)\n",
       "Coordinates:\n",
       "  * lat_global         (lat_global) int64 0 1 2 3 4 5 6 ... 13 14 15 16 17 18 19\n",
       "  * lon_global         (lon_global) int64 0 1 2 3 4 5 6 ... 23 24 25 26 27 28 29\n",
       "  * days               (days) object &#x27;16-08-31&#x27; &#x27;16-09-01&#x27;\n",
       "Data variables:\n",
       "    global_pixel_surf  (lat_global, lon_global, days) float64 ...\n",
       "    max_Prec           (lat_global, lon_global, days) float64 ...\n",
       "    mean_Prec          (lat_global, lon_global, days) float64 ...\n",
       "    heavy_Prec         (lat_global, lon_global, days) float64 ...\n",
       "    bis_mean_Prec      (lat_global, lon_global, days) float64 ...\n",
       "    Alpha_95           (lat_global, lon_global, days) float64 ...\n",
       "    Sigma_95           (lat_global, lon_global, days) float64 ...</pre><div class='xr-wrap' style='display:none'><div class='xr-header'><div class='xr-obj-type'>xarray.Dataset</div></div><ul class='xr-sections'><li class='xr-section-item'><input id='section-56f05b08-9f16-4733-8872-6272766c7fa5' class='xr-section-summary-in' type='checkbox' disabled ><label for='section-56f05b08-9f16-4733-8872-6272766c7fa5' class='xr-section-summary'  title='Expand/collapse section'>Dimensions:</label><div class='xr-section-inline-details'><ul class='xr-dim-list'><li><span class='xr-has-index'>lat_global</span>: 20</li><li><span class='xr-has-index'>lon_global</span>: 30</li><li><span class='xr-has-index'>days</span>: 2</li></ul></div><div class='xr-section-details'></div></li><li class='xr-section-item'><input id='section-383912d8-a469-451e-badd-103bca682abc' class='xr-section-summary-in' type='checkbox'  checked><label for='section-383912d8-a469-451e-badd-103bca682abc' class='xr-section-summary' >Coordinates: <span>(3)</span></label><div class='xr-section-inline-details'></div><div class='xr-section-details'><ul class='xr-var-list'><li class='xr-var-item'><div class='xr-var-name'><span class='xr-has-index'>lat_global</span></div><div class='xr-var-dims'>(lat_global)</div><div class='xr-var-dtype'>int64</div><div class='xr-var-preview xr-preview'>0 1 2 3 4 5 6 ... 14 15 16 17 18 19</div><input id='attrs-e3705095-1cfa-456c-8be0-6f6b3a5a6b3d' class='xr-var-attrs-in' type='checkbox' disabled><label for='attrs-e3705095-1cfa-456c-8be0-6f6b3a5a6b3d' title='Show/Hide attributes'><svg class='icon xr-icon-file-text2'><use xlink:href='#icon-file-text2'></use></svg></label><input id='data-7d425cd0-74fb-4551-a3e4-f3556f373356' class='xr-var-data-in' type='checkbox'><label for='data-7d425cd0-74fb-4551-a3e4-f3556f373356' title='Show/Hide data repr'><svg class='icon xr-icon-database'><use xlink:href='#icon-database'></use></svg></label><div class='xr-var-attrs'><dl class='xr-attrs'></dl></div><div class='xr-var-data'><pre>array([ 0,  1,  2,  3,  4,  5,  6,  7,  8,  9, 10, 11, 12, 13, 14, 15, 16, 17,\n",
       "       18, 19])</pre></div></li><li class='xr-var-item'><div class='xr-var-name'><span class='xr-has-index'>lon_global</span></div><div class='xr-var-dims'>(lon_global)</div><div class='xr-var-dtype'>int64</div><div class='xr-var-preview xr-preview'>0 1 2 3 4 5 6 ... 24 25 26 27 28 29</div><input id='attrs-41db8ffa-8605-4b4f-8fd3-2dd03ed58102' class='xr-var-attrs-in' type='checkbox' disabled><label for='attrs-41db8ffa-8605-4b4f-8fd3-2dd03ed58102' title='Show/Hide attributes'><svg class='icon xr-icon-file-text2'><use xlink:href='#icon-file-text2'></use></svg></label><input id='data-afd6600c-4b5b-46a6-a037-3a6b55e733c3' class='xr-var-data-in' type='checkbox'><label for='data-afd6600c-4b5b-46a6-a037-3a6b55e733c3' title='Show/Hide data repr'><svg class='icon xr-icon-database'><use xlink:href='#icon-database'></use></svg></label><div class='xr-var-attrs'><dl class='xr-attrs'></dl></div><div class='xr-var-data'><pre>array([ 0,  1,  2,  3,  4,  5,  6,  7,  8,  9, 10, 11, 12, 13, 14, 15, 16, 17,\n",
       "       18, 19, 20, 21, 22, 23, 24, 25, 26, 27, 28, 29])</pre></div></li><li class='xr-var-item'><div class='xr-var-name'><span class='xr-has-index'>days</span></div><div class='xr-var-dims'>(days)</div><div class='xr-var-dtype'>object</div><div class='xr-var-preview xr-preview'>&#x27;16-08-31&#x27; &#x27;16-09-01&#x27;</div><input id='attrs-a44691fd-8cdd-4702-9d02-66975f41aa0d' class='xr-var-attrs-in' type='checkbox' disabled><label for='attrs-a44691fd-8cdd-4702-9d02-66975f41aa0d' title='Show/Hide attributes'><svg class='icon xr-icon-file-text2'><use xlink:href='#icon-file-text2'></use></svg></label><input id='data-182e0399-4f5c-4f1a-aae9-776bc4ae6ae7' class='xr-var-data-in' type='checkbox'><label for='data-182e0399-4f5c-4f1a-aae9-776bc4ae6ae7' title='Show/Hide data repr'><svg class='icon xr-icon-database'><use xlink:href='#icon-database'></use></svg></label><div class='xr-var-attrs'><dl class='xr-attrs'></dl></div><div class='xr-var-data'><pre>array([&#x27;16-08-31&#x27;, &#x27;16-09-01&#x27;], dtype=object)</pre></div></li></ul></div></li><li class='xr-section-item'><input id='section-df219c9f-ff8d-4e88-a485-829f06709a8b' class='xr-section-summary-in' type='checkbox'  checked><label for='section-df219c9f-ff8d-4e88-a485-829f06709a8b' class='xr-section-summary' >Data variables: <span>(7)</span></label><div class='xr-section-inline-details'></div><div class='xr-section-details'><ul class='xr-var-list'><li class='xr-var-item'><div class='xr-var-name'><span>global_pixel_surf</span></div><div class='xr-var-dims'>(lat_global, lon_global, days)</div><div class='xr-var-dtype'>float64</div><div class='xr-var-preview xr-preview'>...</div><input id='attrs-02ed57b8-3fd2-40e6-8960-00d9cc1f63f2' class='xr-var-attrs-in' type='checkbox' disabled><label for='attrs-02ed57b8-3fd2-40e6-8960-00d9cc1f63f2' title='Show/Hide attributes'><svg class='icon xr-icon-file-text2'><use xlink:href='#icon-file-text2'></use></svg></label><input id='data-d4f92a5c-3c4f-4443-af68-01cd8ecbc9da' class='xr-var-data-in' type='checkbox'><label for='data-d4f92a5c-3c4f-4443-af68-01cd8ecbc9da' title='Show/Hide data repr'><svg class='icon xr-icon-database'><use xlink:href='#icon-database'></use></svg></label><div class='xr-var-attrs'><dl class='xr-attrs'></dl></div><div class='xr-var-data'><pre>[1200 values with dtype=float64]</pre></div></li><li class='xr-var-item'><div class='xr-var-name'><span>max_Prec</span></div><div class='xr-var-dims'>(lat_global, lon_global, days)</div><div class='xr-var-dtype'>float64</div><div class='xr-var-preview xr-preview'>...</div><input id='attrs-c1d99fe3-bd28-4088-855e-ba5e6a5138ed' class='xr-var-attrs-in' type='checkbox' disabled><label for='attrs-c1d99fe3-bd28-4088-855e-ba5e6a5138ed' title='Show/Hide attributes'><svg class='icon xr-icon-file-text2'><use xlink:href='#icon-file-text2'></use></svg></label><input id='data-5dac8656-b0b1-4e3b-88bb-ba185f8e64e9' class='xr-var-data-in' type='checkbox'><label for='data-5dac8656-b0b1-4e3b-88bb-ba185f8e64e9' title='Show/Hide data repr'><svg class='icon xr-icon-database'><use xlink:href='#icon-database'></use></svg></label><div class='xr-var-attrs'><dl class='xr-attrs'></dl></div><div class='xr-var-data'><pre>[1200 values with dtype=float64]</pre></div></li><li class='xr-var-item'><div class='xr-var-name'><span>mean_Prec</span></div><div class='xr-var-dims'>(lat_global, lon_global, days)</div><div class='xr-var-dtype'>float64</div><div class='xr-var-preview xr-preview'>...</div><input id='attrs-ae1c159a-86f6-40b3-8560-b37ef0b597b1' class='xr-var-attrs-in' type='checkbox' disabled><label for='attrs-ae1c159a-86f6-40b3-8560-b37ef0b597b1' title='Show/Hide attributes'><svg class='icon xr-icon-file-text2'><use xlink:href='#icon-file-text2'></use></svg></label><input id='data-96755b3e-0100-45db-9fd2-9c9e03983e5c' class='xr-var-data-in' type='checkbox'><label for='data-96755b3e-0100-45db-9fd2-9c9e03983e5c' title='Show/Hide data repr'><svg class='icon xr-icon-database'><use xlink:href='#icon-database'></use></svg></label><div class='xr-var-attrs'><dl class='xr-attrs'></dl></div><div class='xr-var-data'><pre>[1200 values with dtype=float64]</pre></div></li><li class='xr-var-item'><div class='xr-var-name'><span>heavy_Prec</span></div><div class='xr-var-dims'>(lat_global, lon_global, days)</div><div class='xr-var-dtype'>float64</div><div class='xr-var-preview xr-preview'>...</div><input id='attrs-5fa41512-fd75-4eb7-897d-c7ae0975fdbd' class='xr-var-attrs-in' type='checkbox' disabled><label for='attrs-5fa41512-fd75-4eb7-897d-c7ae0975fdbd' title='Show/Hide attributes'><svg class='icon xr-icon-file-text2'><use xlink:href='#icon-file-text2'></use></svg></label><input id='data-e8c8670f-2c66-4ce7-8b8b-d94b1416a5d7' class='xr-var-data-in' type='checkbox'><label for='data-e8c8670f-2c66-4ce7-8b8b-d94b1416a5d7' title='Show/Hide data repr'><svg class='icon xr-icon-database'><use xlink:href='#icon-database'></use></svg></label><div class='xr-var-attrs'><dl class='xr-attrs'></dl></div><div class='xr-var-data'><pre>[1200 values with dtype=float64]</pre></div></li><li class='xr-var-item'><div class='xr-var-name'><span>bis_mean_Prec</span></div><div class='xr-var-dims'>(lat_global, lon_global, days)</div><div class='xr-var-dtype'>float64</div><div class='xr-var-preview xr-preview'>...</div><input id='attrs-a1d26858-17e4-448f-9a05-e34ab117a86b' class='xr-var-attrs-in' type='checkbox' disabled><label for='attrs-a1d26858-17e4-448f-9a05-e34ab117a86b' title='Show/Hide attributes'><svg class='icon xr-icon-file-text2'><use xlink:href='#icon-file-text2'></use></svg></label><input id='data-be303c4d-94af-4e21-bdf4-78908d03fd07' class='xr-var-data-in' type='checkbox'><label for='data-be303c4d-94af-4e21-bdf4-78908d03fd07' title='Show/Hide data repr'><svg class='icon xr-icon-database'><use xlink:href='#icon-database'></use></svg></label><div class='xr-var-attrs'><dl class='xr-attrs'></dl></div><div class='xr-var-data'><pre>[1200 values with dtype=float64]</pre></div></li><li class='xr-var-item'><div class='xr-var-name'><span>Alpha_95</span></div><div class='xr-var-dims'>(lat_global, lon_global, days)</div><div class='xr-var-dtype'>float64</div><div class='xr-var-preview xr-preview'>...</div><input id='attrs-c242d81b-00a7-4152-b6f6-9d2e4b91e4c1' class='xr-var-attrs-in' type='checkbox' disabled><label for='attrs-c242d81b-00a7-4152-b6f6-9d2e4b91e4c1' title='Show/Hide attributes'><svg class='icon xr-icon-file-text2'><use xlink:href='#icon-file-text2'></use></svg></label><input id='data-22bc3ec9-01e7-45e8-a863-84192fa57a8c' class='xr-var-data-in' type='checkbox'><label for='data-22bc3ec9-01e7-45e8-a863-84192fa57a8c' title='Show/Hide data repr'><svg class='icon xr-icon-database'><use xlink:href='#icon-database'></use></svg></label><div class='xr-var-attrs'><dl class='xr-attrs'></dl></div><div class='xr-var-data'><pre>[1200 values with dtype=float64]</pre></div></li><li class='xr-var-item'><div class='xr-var-name'><span>Sigma_95</span></div><div class='xr-var-dims'>(lat_global, lon_global, days)</div><div class='xr-var-dtype'>float64</div><div class='xr-var-preview xr-preview'>...</div><input id='attrs-d12d0d73-7344-459d-949e-c1cfa7d4cfc0' class='xr-var-attrs-in' type='checkbox' disabled><label for='attrs-d12d0d73-7344-459d-949e-c1cfa7d4cfc0' title='Show/Hide attributes'><svg class='icon xr-icon-file-text2'><use xlink:href='#icon-file-text2'></use></svg></label><input id='data-5c37343b-df43-4cdb-865a-c46c8ad20dc9' class='xr-var-data-in' type='checkbox'><label for='data-5c37343b-df43-4cdb-865a-c46c8ad20dc9' title='Show/Hide data repr'><svg class='icon xr-icon-database'><use xlink:href='#icon-database'></use></svg></label><div class='xr-var-attrs'><dl class='xr-attrs'></dl></div><div class='xr-var-data'><pre>[1200 values with dtype=float64]</pre></div></li></ul></div></li><li class='xr-section-item'><input id='section-d38f2994-93e9-424e-b2c6-7e2d431597da' class='xr-section-summary-in' type='checkbox'  ><label for='section-d38f2994-93e9-424e-b2c6-7e2d431597da' class='xr-section-summary' >Indexes: <span>(3)</span></label><div class='xr-section-inline-details'></div><div class='xr-section-details'><ul class='xr-var-list'><li class='xr-var-item'><div class='xr-index-name'><div>lat_global</div></div><div class='xr-index-preview'>PandasIndex</div><div></div><input id='index-3b0271c7-cf3b-497f-9d6b-ae20b1399482' class='xr-index-data-in' type='checkbox'/><label for='index-3b0271c7-cf3b-497f-9d6b-ae20b1399482' title='Show/Hide index repr'><svg class='icon xr-icon-database'><use xlink:href='#icon-database'></use></svg></label><div class='xr-index-data'><pre>PandasIndex(Int64Index([0, 1, 2, 3, 4, 5, 6, 7, 8, 9, 10, 11, 12, 13, 14, 15, 16, 17, 18,\n",
       "            19],\n",
       "           dtype=&#x27;int64&#x27;, name=&#x27;lat_global&#x27;))</pre></div></li><li class='xr-var-item'><div class='xr-index-name'><div>lon_global</div></div><div class='xr-index-preview'>PandasIndex</div><div></div><input id='index-ed8d0893-6c25-47ad-9b9d-15c1d84f89cb' class='xr-index-data-in' type='checkbox'/><label for='index-ed8d0893-6c25-47ad-9b9d-15c1d84f89cb' title='Show/Hide index repr'><svg class='icon xr-icon-database'><use xlink:href='#icon-database'></use></svg></label><div class='xr-index-data'><pre>PandasIndex(Int64Index([ 0,  1,  2,  3,  4,  5,  6,  7,  8,  9, 10, 11, 12, 13, 14, 15, 16,\n",
       "            17, 18, 19, 20, 21, 22, 23, 24, 25, 26, 27, 28, 29],\n",
       "           dtype=&#x27;int64&#x27;, name=&#x27;lon_global&#x27;))</pre></div></li><li class='xr-var-item'><div class='xr-index-name'><div>days</div></div><div class='xr-index-preview'>PandasIndex</div><div></div><input id='index-520345ca-f4cd-4ef2-b845-f50c1cb574ce' class='xr-index-data-in' type='checkbox'/><label for='index-520345ca-f4cd-4ef2-b845-f50c1cb574ce' title='Show/Hide index repr'><svg class='icon xr-icon-database'><use xlink:href='#icon-database'></use></svg></label><div class='xr-index-data'><pre>PandasIndex(Index([&#x27;16-08-31&#x27;, &#x27;16-09-01&#x27;], dtype=&#x27;object&#x27;, name=&#x27;days&#x27;))</pre></div></li></ul></div></li><li class='xr-section-item'><input id='section-b46114bc-c8e3-4486-8477-c83c7aa3e831' class='xr-section-summary-in' type='checkbox' disabled ><label for='section-b46114bc-c8e3-4486-8477-c83c7aa3e831' class='xr-section-summary'  title='Expand/collapse section'>Attributes: <span>(0)</span></label><div class='xr-section-inline-details'></div><div class='xr-section-details'><dl class='xr-attrs'></dl></div></li></ul></div></div>"
      ],
      "text/plain": [
       "<xarray.Dataset>\n",
       "Dimensions:            (lat_global: 20, lon_global: 30, days: 2)\n",
       "Coordinates:\n",
       "  * lat_global         (lat_global) int64 0 1 2 3 4 5 6 ... 13 14 15 16 17 18 19\n",
       "  * lon_global         (lon_global) int64 0 1 2 3 4 5 6 ... 23 24 25 26 27 28 29\n",
       "  * days               (days) object '16-08-31' '16-09-01'\n",
       "Data variables:\n",
       "    global_pixel_surf  (lat_global, lon_global, days) float64 ...\n",
       "    max_Prec           (lat_global, lon_global, days) float64 ...\n",
       "    mean_Prec          (lat_global, lon_global, days) float64 ...\n",
       "    heavy_Prec         (lat_global, lon_global, days) float64 ...\n",
       "    bis_mean_Prec      (lat_global, lon_global, days) float64 ...\n",
       "    Alpha_95           (lat_global, lon_global, days) float64 ...\n",
       "    Sigma_95           (lat_global, lon_global, days) float64 ..."
      ]
     },
     "execution_count": 9,
     "metadata": {},
     "output_type": "execute_result"
    }
   ],
   "source": [
    "ds = gr.get_var_id_ds(\"Prec\")\n",
    "ds"
   ]
  },
  {
   "cell_type": "code",
   "execution_count": 18,
   "metadata": {},
   "outputs": [
    {
     "data": {
      "text/plain": [
       "(20, 30, 2)"
      ]
     },
     "execution_count": 18,
     "metadata": {},
     "output_type": "execute_result"
    }
   ],
   "source": [
    "# ds.max_Prec.shape\n",
    "ds.heavy_Prec.shape"
   ]
  },
  {
   "cell_type": "code",
   "execution_count": 22,
   "metadata": {},
   "outputs": [
    {
     "data": {
      "text/plain": [
       "[<matplotlib.lines.Line2D at 0x1475e5ae38b0>]"
      ]
     },
     "execution_count": 22,
     "metadata": {},
     "output_type": "execute_result"
    },
    {
     "data": {
      "image/png": "[encoded data removed]",
      "text/plain": [
       "<Figure size 640x480 with 1 Axes>"
      ]
     },
     "metadata": {},
     "output_type": "display_data"
    }
   ],
   "source": [
    "plt.plot(ds.max_Prec.values.flatten()/10)\n",
    "plt.plot(ds.heavy_Prec.values.flatten())"
   ]
  },
  {
   "cell_type": "markdown",
   "metadata": {},
   "source": [
    "## DO MCS_labels stuff from explore_conditional_multiscale_extremes.ipynb"
   ]
  },
  {
   "cell_type": "code",
   "execution_count": 6,
   "metadata": {},
   "outputs": [
    {
     "data": {
      "image/png": "[encoded data removed]",
      "text/plain": [
       "<Figure size 600x485 with 4 Axes>"
      ]
     },
     "metadata": {},
     "output_type": "display_data"
    }
   ],
   "source": [
    "%matplotlib inline\n",
    "data, noise = jd.get_mcs_bin_fraction()\n",
    "jd.plot_data(data, noise, False)"
   ]
  },
  {
   "cell_type": "code",
   "execution_count": 25,
   "metadata": {},
   "outputs": [
    {
     "name": "stdout",
     "output_type": "stream",
     "text": [
      "0123456789101112131415161718192021222324252627282930"
     ]
    }
   ],
   "source": [
    "A_max = storm_attributes_on_jdist(jd, ['surfmaxkm2_172Wm2'], ['max'])\n",
    "A_max = A_max[0][0,0]"
   ]
  },
  {
   "cell_type": "code",
   "execution_count": 26,
   "metadata": {},
   "outputs": [
    {
     "data": {
      "image/png": "[encoded data removed]",
      "text/plain": [
       "<Figure size 600x485 with 4 Axes>"
      ]
     },
     "metadata": {},
     "output_type": "display_data"
    }
   ],
   "source": [
    "%matplotlib inline\n",
    "data = A_max\n",
    "jd.plot_data(data, noise, False)"
   ]
  }
 ],
 "metadata": {
  "kernelspec": {
   "display_name": "PyLMD",
   "language": "python",
   "name": "pylmd"
  },
  "language_info": {
   "codemirror_mode": {
    "name": "ipython",
    "version": 3
   },
   "file_extension": ".py",
   "mimetype": "text/x-python",
   "name": "python",
   "nbconvert_exporter": "python",
   "pygments_lexer": "ipython3",
   "version": "3.8.13"
  }
 },
 "nbformat": 4,
 "nbformat_minor": 2
}
