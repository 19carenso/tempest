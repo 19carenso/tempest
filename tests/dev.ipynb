{
 "cells": [
  {
   "cell_type": "code",
   "execution_count": 1,
   "metadata": {},
   "outputs": [],
   "source": [
    "%load_ext autoreload\n",
    "%matplotlib inline"
   ]
  },
  {
   "cell_type": "code",
   "execution_count": null,
   "metadata": {},
   "outputs": [
    {
     "name": "stdout",
     "output_type": "stream",
     "text": [
      "/home/mcarenso/code/tempest\n",
      "Overwriting the existing variables of DYAMOND_SAM_ITCZ_intro at input/intro/DYAMOND_SAM_ITCZ_intro\n",
      "Json file of variables, days, i_t not found, so building them...\n",
      "Variables data retrieved. Saving them in input/intro/DYAMOND_SAM_ITCZ_intro/var_id_days_i_t.json\n",
      "Data saved as input/intro/DYAMOND_SAM_ITCZ_intro/var_id_days_i_t.json\n",
      "Found grid attributes file , so loading /home/mcarenso/code/tempest/output/DYAMOND_SAM_ITCZ_intro/grid_attributes.pkl instead of computing\n"
     ]
    }
   ],
   "source": [
    "import os\n",
    "import glob\n",
    "import sys\n",
    "import yaml\n",
    "import xarray as xr\n",
    "\n",
    "import numpy as np\n",
    "import matplotlib.pyplot as plt\n",
    "\n",
    "print(os.getcwd())\n",
    "\n",
    "from tempest import casestudy\n",
    "from tempest import grid\n",
    "from tempest import joint_distrib\n",
    "from tempest import handler\n",
    "\n",
    "settings_path = 'settings/intro.yaml'\n",
    "\n",
    "# Instantiate CaseStudy by passing the settings. \n",
    "# Should also create appropriate directories\n",
    "hdlr = handler.Handler(settings_path)\n",
    "cs = casestudy.CaseStudy(hdlr, overwrite = True)\n",
    "gr = grid.Grid(hdlr, verbose = False, overwrite = False)\n",
    "jd = joint_distrib.JointDistribution(gr)\n",
    "\n",
    "if __name__ == '__main__':\n",
    "    # print(\"Loaded Configuration:\")\n",
    "    # for key, value in settings.items():\n",
    "    #     print(f\"{key}: {value}\")\n",
    "    \n",
    "    #gr.compute_funcs_for_var_id()\n",
    "    pass"
   ]
  },
  {
   "cell_type": "code",
   "execution_count": 13,
   "metadata": {},
   "outputs": [],
   "source": [
    "from tempest.utils import get_rootname_from_i_t\n",
    "\n",
    "def load_seg(i_t,df):\n",
    "    ## i_t is incorrectly passed there \n",
    "    full_path = '/'+df.iloc[i_t]['img_seg_path']\n",
    "    \n",
    "    if hdlr.settings['DIR_TOOCANSEG_DYAMOND'] is None:\n",
    "        path_TOOCAN = full_path\n",
    "    else:\n",
    "\n",
    "        filename = os.path.basename(full_path)\n",
    "        date = os.path.basename(os.path.dirname(full_path))\n",
    "        path_TOOCAN = os.path.join(hdlr.settings['DIR_TOOCANSEG_DYAMOND'],date,filename)\n",
    "        \n",
    "    # Load TOOCAN data\n",
    "    img_TOOCAN = xr.open_dataarray(path_TOOCAN)\n",
    "    \n",
    "    return img_TOOCAN"
   ]
  }
 ],
 "metadata": {
  "kernelspec": {
   "display_name": "PyLMD",
   "language": "python",
   "name": "pylmd"
  },
  "language_info": {
   "codemirror_mode": {
    "name": "ipython",
    "version": 3
   },
   "file_extension": ".py",
   "mimetype": "text/x-python",
   "name": "python",
   "nbconvert_exporter": "python",
   "pygments_lexer": "ipython3",
   "version": "3.8.13"
  }
 },
 "nbformat": 4,
 "nbformat_minor": 2
}
