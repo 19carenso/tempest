{
 "cells": [
  {
   "cell_type": "code",
   "execution_count": 4,
   "metadata": {},
   "outputs": [
    {
     "name": "stdout",
     "output_type": "stream",
     "text": [
      "The autoreload extension is already loaded. To reload it, use:\n",
      "  %reload_ext autoreload\n"
     ]
    }
   ],
   "source": [
    "%load_ext autoreload\n",
    "%matplotlib inline\n",
    "\n",
    "import numpy as np\n",
    "import matplotlib as mpl\n",
    "import matplotlib.pyplot as plt\n",
    "import seaborn as sns  # Seaborn enhances the aesthetics of matplotlib plots\n",
    "\n",
    "import pandas as pd\n",
    "import xarray as xr\n",
    "import seaborn as sns\n",
    "import warnings\n",
    "import logging\n",
    "# sns.set()\n",
    "\n",
    "from tempest import casestudy\n",
    "from tempest import grid\n",
    "from tempest import storm_tracker\n",
    "from tempest import joint_distrib\n",
    "from tempest import handler\n",
    "from tempest.plots.hist import simple_hist\n"
   ]
  },
  {
   "cell_type": "code",
   "execution_count": 9,
   "metadata": {
    "metadata": {}
   },
   "outputs": [
    {
     "name": "stdout",
     "output_type": "stream",
     "text": [
      "Data loaded from /homedata/mcarenso/tempest/ARPEGE_lowRes_Tropics/var_id_days_i_t.json\n",
      "Data loaded from /homedata/mcarenso/tempest/FV3_lowRes_Tropics/var_id_days_i_t.json\n",
      "Data loaded from /homedata/mcarenso/tempest/IFS_lowRes_Tropics/var_id_days_i_t.json\n",
      "Data loaded from /homedata/mcarenso/tempest/MPAS_lowRes_Tropics/var_id_days_i_t.json\n",
      "Data loaded from /homedata/mcarenso/tempest/NICAM_lowRes_Tropics/var_id_days_i_t.json\n",
      "Data loaded from /homedata/mcarenso/tempest/OBS_lowRes_Tropics/var_id_days_i_t.json\n",
      "Data loaded from /homedata/mcarenso/tempest/SAM_lowRes_Tropics/var_id_days_i_t.json\n",
      "Data loaded from /homedata/mcarenso/tempest/UM_lowRes_Tropics/var_id_days_i_t.json\n",
      "Found grid attributes file , so loading /homedata/mcarenso/tempest/ARPEGE_lowRes_Tropics/grid_attributes.pkl instead of computing\n",
      "Found grid attributes file , so loading /homedata/mcarenso/tempest/FV3_lowRes_Tropics/grid_attributes.pkl instead of computing\n",
      "Found grid attributes file , so loading /homedata/mcarenso/tempest/IFS_lowRes_Tropics/grid_attributes.pkl instead of computing\n",
      "Found grid attributes file , so loading /homedata/mcarenso/tempest/MPAS_lowRes_Tropics/grid_attributes.pkl instead of computing\n",
      "Found grid attributes file , so loading /homedata/mcarenso/tempest/NICAM_lowRes_Tropics/grid_attributes.pkl instead of computing\n",
      "Found grid attributes file , so loading /homedata/mcarenso/tempest/OBS_lowRes_Tropics/grid_attributes.pkl instead of computing\n",
      "Found grid attributes file , so loading /homedata/mcarenso/tempest/SAM_lowRes_Tropics/grid_attributes.pkl instead of computing\n",
      "Found grid attributes file , so loading /homedata/mcarenso/tempest/UM_lowRes_Tropics/grid_attributes.pkl instead of computing\n",
      "Distribs loaded\n",
      "Overwrite set to false so loading basics attributes from .npy\n",
      "Distribs loaded\n",
      "Overwrite set to false so loading basics attributes from .npy\n",
      "Distribs loaded\n",
      "Overwrite set to false so loading basics attributes from .npy\n",
      "Distribs loaded\n",
      "Overwrite set to false so loading basics attributes from .npy\n",
      "Distribs loaded\n",
      "Overwrite set to false so loading basics attributes from .npy\n",
      "Distribs loaded\n",
      "Overwrite set to false so loading basics attributes from .npy\n",
      "Distribs loaded\n",
      "Overwrite set to false so loading basics attributes from .npy\n",
      "Distribs loaded\n",
      "Overwrite set to false so loading basics attributes from .npy\n"
     ]
    }
   ],
   "source": [
    "# settings_path = 'settings/sam_4km_30min_30d.yaml'\n",
    "settings_paths = [\"settings/arpege_summer_30d.yaml\", \"settings/fv3_summer_30d.yaml\" , \"settings/ifs_summer_30d.yaml\" , \"settings/mpas_summer_30d.yaml\", \n",
    "                    \"settings/nicam_summer_30d.yaml\", \"settings/obs_summer_30d.yaml\", \"settings/sam_summer_30d.yaml\", #\"settings/sam_4km_30min_30d.yaml\",\n",
    "                    \"settings/um_summer_30d.yaml\"]\n",
    "\n",
    "\n",
    "hdlrs = [handler.Handler(settings_path) for settings_path in settings_paths]\n",
    "css = [casestudy.CaseStudy(hdlr, overwrite = False ,verbose = False) for hdlr in hdlrs]\n",
    "grs = [grid.Grid(cs, fast = True, overwrite= False, verbose_steps = False, verbose = False) for cs in css]\n",
    "jds = [joint_distrib.JointDistribution(gr, None, var_id_1 = \"mean_unweighted_Prec\", var_id_2 = \"cond_alpha_85_Prec\", \n",
    "        nbpd = 20,  nd=5, overwrite = False, dist_mask = False) for gr in grs]\n",
    "\n",
    "lm = grs[0].get_landmask()\n",
    "ocean = lm.Landmask == 0\n",
    "ocean = ocean.values[:,:,np.newaxis]"
   ]
  },
  {
   "cell_type": "code",
   "execution_count": 21,
   "metadata": {},
   "outputs": [],
   "source": [
    "rank_conv_min = 0\n",
    "alpha = 0.15\n",
    "var_alpha = \"cond_alpha_\"+str(np.round(1-alpha, 2))[2:]+\"_Prec\""
   ]
  },
  {
   "cell_type": "code",
   "execution_count": 22,
   "metadata": {},
   "outputs": [
    {
     "name": "stdout",
     "output_type": "stream",
     "text": [
      "15.532534656955702 %\n",
      "15.40416816999331 %\n",
      "15.630628700633284 %\n",
      "15.140097121999236 %\n",
      "16.003273318302117 %\n",
      "15.332687228239319 %\n",
      "15.700108551594713 %\n",
      "15.651922781104117 %\n"
     ]
    }
   ],
   "source": [
    "for jd in jds : \n",
    "    jd.make_mask()\n",
    "    mask_rank_conv = np.outer(jd.dist1.ranks >= 0, jd.dist2.ranks >= rank_conv_min)\n",
    "    mask_yxt = jd.get_mask_yxt_from_mask_jdist(mask_rank_conv)\n",
    "    V_rank_alpha = 100*np.sum((jd.prec.nS*jd.prec[\"Sigma_\"+var_alpha]*jd.prec[var_alpha]).values[mask_yxt])/np.sum(jd.prec.nS*jd.prec.mean_unweighted_Prec).values\n",
    "    print(V_rank_alpha, \"%\")"
   ]
  }
 ],
 "metadata": {
  "kernelspec": {
   "display_name": "Python (PyHD)",
   "language": "python",
   "name": "pyhd"
  }
 },
 "nbformat": 4,
 "nbformat_minor": 2
}
