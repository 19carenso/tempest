{
 "cells": [
  {
   "cell_type": "code",
   "execution_count": 1,
   "metadata": {},
   "outputs": [],
   "source": [
    "%load_ext autoreload\n",
    "%matplotlib inline\n",
    "\n",
    "import numpy as np\n",
    "import matplotlib as mpl\n",
    "import matplotlib.pyplot as plt\n",
    "import seaborn as sns  # Seaborn enhances the aesthetics of matplotlib plots\n",
    "\n",
    "import pandas as pd\n",
    "import xarray as xr\n",
    "import seaborn as sns\n",
    "import warnings\n",
    "import logging\n",
    "# sns.set()\n",
    "\n",
    "from tempest import casestudy\n",
    "from tempest import grid\n",
    "from tempest import storm_tracker\n",
    "from tempest import joint_distrib\n",
    "from tempest import handler\n",
    "from tempest.plots.hist import simple_hist\n"
   ]
  },
  {
   "cell_type": "code",
   "execution_count": 3,
   "metadata": {},
   "outputs": [
    {
     "name": "stdout",
     "output_type": "stream",
     "text": [
      "Data loaded from /homedata/mcarenso/tempest/ARPEGE_lowRes_Tropics/var_id_days_i_t.json\n",
      "Data loaded from /homedata/mcarenso/tempest/FV3_lowRes_Tropics/var_id_days_i_t.json\n",
      "Data loaded from /homedata/mcarenso/tempest/IFS_lowRes_Tropics/var_id_days_i_t.json\n",
      "Data loaded from /homedata/mcarenso/tempest/MPAS_lowRes_Tropics/var_id_days_i_t.json\n",
      "Data loaded from /homedata/mcarenso/tempest/NICAM_lowRes_Tropics/var_id_days_i_t.json\n",
      "Data loaded from /homedata/mcarenso/tempest/OBS_lowRes_Tropics/var_id_days_i_t.json\n",
      "Data loaded from /homedata/mcarenso/tempest/SAM_lowRes_Tropics/var_id_days_i_t.json\n",
      "Data loaded from /homedata/mcarenso/tempest/UM_lowRes_Tropics/var_id_days_i_t.json\n",
      "Found grid attributes file , so loading /homedata/mcarenso/tempest/ARPEGE_lowRes_Tropics/grid_attributes.pkl instead of computing\n",
      "Found grid attributes file , so loading /homedata/mcarenso/tempest/FV3_lowRes_Tropics/grid_attributes.pkl instead of computing\n",
      "Found grid attributes file , so loading /homedata/mcarenso/tempest/IFS_lowRes_Tropics/grid_attributes.pkl instead of computing\n",
      "Found grid attributes file , so loading /homedata/mcarenso/tempest/MPAS_lowRes_Tropics/grid_attributes.pkl instead of computing\n",
      "Found grid attributes file , so loading /homedata/mcarenso/tempest/NICAM_lowRes_Tropics/grid_attributes.pkl instead of computing\n",
      "Found grid attributes file , so loading /homedata/mcarenso/tempest/OBS_lowRes_Tropics/grid_attributes.pkl instead of computing\n",
      "Found grid attributes file , so loading /homedata/mcarenso/tempest/SAM_lowRes_Tropics/grid_attributes.pkl instead of computing\n",
      "Found grid attributes file , so loading /homedata/mcarenso/tempest/UM_lowRes_Tropics/grid_attributes.pkl instead of computing\n",
      "Distribs have been recomputed because overwrite is set to True\n",
      "Overwrite set to true, so computing basics and saving them\n",
      "Distribs have been recomputed because overwrite is set to True\n",
      "Overwrite set to true, so computing basics and saving them\n",
      "Distribs have been recomputed because overwrite is set to True\n",
      "Overwrite set to true, so computing basics and saving them\n",
      "Distribs have been recomputed because overwrite is set to True\n",
      "Overwrite set to true, so computing basics and saving them\n",
      "Distribs have been recomputed because overwrite is set to True\n",
      "Overwrite set to true, so computing basics and saving them\n"
     ]
    },
    {
     "name": "stderr",
     "output_type": "stream",
     "text": [
      "/net/nfs/tools/u20/Python/miniconda3_py310_22.11.1-1/envs/pangeo-meso-2023.04.15/lib/python3.10/site-packages/numpy/lib/histograms.py:906: RuntimeWarning: invalid value encountered in divide\n",
      "  return n/db/n.sum(), bin_edges\n"
     ]
    },
    {
     "name": "stdout",
     "output_type": "stream",
     "text": [
      "Distribs have been recomputed because overwrite is set to True\n",
      "Overwrite set to true, so computing basics and saving them\n"
     ]
    },
    {
     "name": "stderr",
     "output_type": "stream",
     "text": [
      "/net/nfs/tools/u20/Python/miniconda3_py310_22.11.1-1/envs/pangeo-meso-2023.04.15/lib/python3.10/site-packages/numpy/lib/histograms.py:1123: RuntimeWarning: invalid value encountered in divide\n",
      "  hist = hist / dedges[i].reshape(shape)\n"
     ]
    },
    {
     "name": "stdout",
     "output_type": "stream",
     "text": [
      "Distribs have been recomputed because overwrite is set to True\n",
      "Overwrite set to true, so computing basics and saving them\n",
      "Distribs have been recomputed because overwrite is set to True\n",
      "Overwrite set to true, so computing basics and saving them\n"
     ]
    }
   ],
   "source": [
    "# settings_path = 'settings/sam_4km_30min_30d.yaml'\n",
    "# \"settings/arpege_summer_30d.yaml\",\n",
    "#\"settings/fv3_summer_30d.yaml\"  ,\n",
    "settings_paths = [ \"settings/arpege_summer_30d.yaml\", \"settings/fv3_summer_30d.yaml\", \"settings/ifs_summer_30d.yaml\", \n",
    "                    \"settings/mpas_summer_30d.yaml\", \"settings/nicam_summer_30d.yaml\", \"settings/obs_summer_30d.yaml\", \n",
    "                    \"settings/sam_summer_30d.yaml\", \"settings/um_summer_30d.yaml\"]\n",
    "# settings_paths = [\"settings/nicam_summer_30d.yaml\",  \"settings/um_summer_30d.yaml\"]\n",
    "# settings_paths = [ \"settings/sam_4km_30min_30d.yaml\"]\n",
    "\n",
    "hdlrs = [handler.Handler(settings_path) for settings_path in settings_paths]\n",
    "css = [casestudy.CaseStudy(hdlr, overwrite = False ,verbose = False) for hdlr in hdlrs]\n",
    "grs = [grid.Grid(cs, fast = True, overwrite= False, verbose_steps = False, verbose = False) for cs in css]\n",
    "jds = [joint_distrib.JointDistribution(gr, None, var_id_1 = \"mean_unweighted_Prec\", var_id_2 = \"cond_alpha_85_Prec\", \n",
    "        nbpd = 20,  nd=5, overwrite = True, dist_mask = False) for gr in grs]\n",
    "\n",
    "lm = grs[0].get_landmask()\n",
    "ocean = lm.Landmask == 0\n",
    "ocean = ocean.values[:,:,np.newaxis]"
   ]
  },
  {
   "cell_type": "code",
   "execution_count": null,
   "metadata": {},
   "outputs": [],
   "source": [
    "import os \n",
    "cloud_cond_var_id = \"sliding_MCS_cond_Prec_15\"\n",
    "sigma = jd.prec.Sigma_cond_alpha_85_Prec\n",
    "mcs_cond = gr.get_var_id_ds(cloud_cond_var_id)\n",
    "sigma_mcs = mcs_cond.Rel_surface.sum(axis = 3) ## add this\n",
    "mcs_cond[\"intersection_\"+cloud_cond_var_id] = sigma_mcs/sigma ## add this \n",
    "mcs_cond_file = gr.get_var_ds_file(cloud_cond_var_id)\n",
    "os.remove(mcs_cond_file)\n",
    "mcs_cond.to_netcdf(mcs_cond_file)"
   ]
  },
  {
   "cell_type": "code",
   "execution_count": 4,
   "metadata": {},
   "outputs": [
    {
     "name": "stdout",
     "output_type": "stream",
     "text": [
      "making ds storms ...\n",
      "\n",
      "Label wise attributes  ['DCS_number', 'INT_TbMin', 'INT_UTC_timeEnd', 'INT_UTC_timeInit', 'INT_classif', 'INT_classif_JIRAK', 'INT_classif_MADDOX', 'INT_distance', 'INT_duration', 'INT_latEnd', 'INT_latInit', 'INT_latmax', 'INT_latmin', 'INT_localtime_End', 'INT_localtime_Init', 'INT_lonEnd', 'INT_lonInit', 'INT_lonmax', 'INT_lonmin', 'INT_qltyDCS', 'INT_surfcumkm2_241K', 'INT_surfmaxPix_241K', 'INT_surfmaxkm2_200K', 'INT_surfmaxkm2_210K', 'INT_surfmaxkm2_220K', 'INT_surfmaxkm2_241K', 'INT_velocityAvg']\n",
      "Label's Lifecycle wise attributes  ['LC_UTC_time', 'LC_ecc_220K', 'LC_ecc_241K', 'LC_lat', 'LC_localtime', 'LC_lon', 'LC_orientation_220K', 'LC_orientation_241K', 'LC_smajor_220K', 'LC_smajor_241K', 'LC_sminor_220K', 'LC_sminor_241K', 'LC_surfPix_210K', 'LC_surfPix_241K', 'LC_surfkm2_200K', 'LC_surfkm2_210K', 'LC_surfkm2_220K', 'LC_surfkm2_241K', 'LC_tb_90th', 'LC_tbavg_200K', 'LC_tbavg_208K', 'LC_tbavg_241K', 'LC_tbmin', 'LC_velocity', 'LC_x', 'LC_y', 'QCgeo_IRimage']\n",
      "making duplicates ds storms :\n",
      "Found 2 duplicates storms.\n",
      "Found 2 duplicates, removed 1.0 of them\n",
      "All duplicates removed or no duplicates\n",
      "Saving storms\n",
      "ds storms saved !\n"
     ]
    }
   ],
   "source": [
    "# for gr in grs:\n",
    "#     st = storm_tracker.StormTracker(gr, label_var_id = \"MCS_label\", overwrite_storms = True, overwrite = False)\n",
    "#     # st = storm_tracker.StormTracker(gr, label_var_id = \"MCS_Feng\", overwrite_storms = True, overwrite = False)\n"
   ]
  }
 ],
 "metadata": {
  "kernelspec": {
   "display_name": "Python (PyHD)",
   "language": "python",
   "name": "pyhd"
  },
  "language_info": {
   "codemirror_mode": {
    "name": "ipython",
    "version": 3
   },
   "file_extension": ".py",
   "mimetype": "text/x-python",
   "name": "python",
   "nbconvert_exporter": "python",
   "pygments_lexer": "ipython3",
   "version": "3.10.10"
  }
 },
 "nbformat": 4,
 "nbformat_minor": 2
}
